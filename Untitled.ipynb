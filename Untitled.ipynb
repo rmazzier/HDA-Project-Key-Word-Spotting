{
 "cells": [
  {
   "cell_type": "markdown",
   "id": "4fcfd8a2",
   "metadata": {},
   "source": [
    "# Input Pipeline\n",
    "The most challenging part of the project was to build an efficient input pipeline.\n",
    "(explain...)"
   ]
  },
  {
   "cell_type": "markdown",
   "id": "b212f5a3",
   "metadata": {},
   "source": [
    "## Getting the file names for each split"
   ]
  },
  {
   "cell_type": "code",
   "execution_count": null,
   "id": "628f0fa9",
   "metadata": {},
   "outputs": [],
   "source": []
  }
 ],
 "metadata": {
  "kernelspec": {
   "display_name": "Python 3.8.10 64-bit ('tf_venv': venv)",
   "language": "python",
   "name": "python3810jvsc74a57bd0620e392e679eaefc09f4903ebfec49b1a70964bd738a1596cf552b4af3b29669"
  },
  "language_info": {
   "codemirror_mode": {
    "name": "ipython",
    "version": 3
   },
   "file_extension": ".py",
   "mimetype": "text/x-python",
   "name": "python",
   "nbconvert_exporter": "python",
   "pygments_lexer": "ipython3",
   "version": "3.8.10"
  }
 },
 "nbformat": 4,
 "nbformat_minor": 5
}
